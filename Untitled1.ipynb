{
 "cells": [
  {
   "cell_type": "markdown",
   "id": "4d90fffa-23b7-416c-bf70-96970a8d9865",
   "metadata": {},
   "source": [
    "**1. What is statistics, and why is it important?**"
   ]
  },
  {
   "cell_type": "markdown",
   "id": "e5d7ed41-b1e5-48d0-90da-44fd1c141c9f",
   "metadata": {},
   "source": [
    "Statistics is the science of collecting, analyzing, and interpreting data. It's important for making informed decisions in various fields."
   ]
  },
  {
   "cell_type": "markdown",
   "id": "52d57ee2-1fdc-4df4-b20a-d451d96fb885",
   "metadata": {},
   "source": [
    "**2.What are the two main types of statistics?**"
   ]
  },
  {
   "cell_type": "markdown",
   "id": "a93c5208-f47b-455b-a9b2-1af8d9c04579",
   "metadata": {},
   "source": [
    "Descriptive and Inferential statistics"
   ]
  },
  {
   "cell_type": "markdown",
   "id": "5e2eafe7-5262-48ff-9f4d-5fd111911c42",
   "metadata": {},
   "source": [
    "**3.What are descriptive statistics?**"
   ]
  },
  {
   "cell_type": "markdown",
   "id": "a4da0d29-d81c-4537-9e2b-4d2b1a8efe26",
   "metadata": {},
   "source": [
    "What are descriptive statistics?"
   ]
  },
  {
   "cell_type": "markdown",
   "id": "08ff200d-dbb9-479a-86e5-916ae6d84ae0",
   "metadata": {},
   "source": [
    "**4. What is inferential statistics?**"
   ]
  },
  {
   "cell_type": "markdown",
   "id": "2e3f546b-4c0d-4b49-a85b-e9cd18d32d59",
   "metadata": {},
   "source": [
    "Drawing conclusions or predictions about a population using sample data."
   ]
  },
  {
   "cell_type": "markdown",
   "id": "d87f9ee8-3c8a-4fa8-bfa1-2d697f9a76c8",
   "metadata": {},
   "source": [
    "**5.What is sampling in statistics?**"
   ]
  },
  {
   "cell_type": "markdown",
   "id": "7bcbc798-f78e-4bdf-9492-b83338ab04d9",
   "metadata": {},
   "source": [
    "Selecting a subset from a population to analyze and draw conclusions."
   ]
  },
  {
   "cell_type": "markdown",
   "id": "1fe9001d-db9b-4848-8c97-784e3a26fa47",
   "metadata": {},
   "source": [
    "**6.What are the different types of sampling methods?**"
   ]
  },
  {
   "cell_type": "markdown",
   "id": "4b0fe3bf-1b24-4767-9f7c-aad31577beac",
   "metadata": {},
   "source": [
    "Random, Stratified, Systematic, Cluster, Convenience"
   ]
  },
  {
   "cell_type": "markdown",
   "id": "4004e3e1-cdec-49b5-8496-8e71978042de",
   "metadata": {},
   "source": [
    "**7. Difference between random and non-random sampling?**"
   ]
  },
  {
   "cell_type": "markdown",
   "id": "c576aae0-3d02-4482-8182-38628dd31baf",
   "metadata": {},
   "source": [
    "Random: Every unit has equal chance; Non-random: Selection is subjective."
   ]
  },
  {
   "cell_type": "markdown",
   "id": "e7e55bda-0d74-4ff5-aa28-9d76a08dac86",
   "metadata": {},
   "source": [
    "**8.Define and give examples of qualitative and quantitative data**"
   ]
  },
  {
   "cell_type": "markdown",
   "id": "e3bfb72a-c670-404d-ac26-19a875f1bb1c",
   "metadata": {},
   "source": [
    "Qualitative: Categorical (e.g., colors, gender)\n",
    " Quantitative: Numeric (e.g., age, height)"
   ]
  },
  {
   "cell_type": "markdown",
   "id": "c2057b1b-09ba-4ee6-9b9e-25b7bbdfb234",
   "metadata": {},
   "source": [
    "**9. What are the different types of data in statistics?**"
   ]
  },
  {
   "cell_type": "markdown",
   "id": "ad92ddd8-1e1f-4307-8509-c63bcde87796",
   "metadata": {},
   "source": [
    "Nominal, Ordinal, Interval, Ratio"
   ]
  },
  {
   "cell_type": "markdown",
   "id": "6921d4fd-3926-4312-94ac-435df1e0a4d7",
   "metadata": {},
   "source": [
    "**10.Explain nominal, ordinal, interval, and ratio levels of measurement**"
   ]
  },
  {
   "cell_type": "markdown",
   "id": "dc4ed4f0-59df-407b-8c35-d6a6e8b571ef",
   "metadata": {},
   "source": [
    "Nominal: Categories (e.g., colors)\n",
    "\n",
    "Ordinal: Ordered categories (e.g., ranks)\n",
    "\n",
    "Interval: Numeric with no true zero (e.g., temperature)\n",
    "\n",
    "Ratio: Numeric with true zero (e.g., weight)"
   ]
  },
  {
   "cell_type": "markdown",
   "id": "fd703d1f-6442-4bd1-a3d7-c3234ccff1d9",
   "metadata": {},
   "source": [
    "**11.What is the measure of central tendency?**"
   ]
  },
  {
   "cell_type": "markdown",
   "id": "685b469e-6bea-4a42-b333-5c2d691844e2",
   "metadata": {},
   "source": [
    " Values that represent the center of a dataset: Mean, Median, Mode"
   ]
  },
  {
   "cell_type": "markdown",
   "id": "6bed7ca4-dc52-42bd-be21-f6c5f9ddfdec",
   "metadata": {},
   "source": [
    "**12. Define mean, median, and mode.**"
   ]
  },
  {
   "cell_type": "markdown",
   "id": "64611080-3c60-4f0e-a1e0-d1307bd253a1",
   "metadata": {},
   "source": [
    "Mean: Average\n",
    "\n",
    "Median: Middle value\n",
    "\n",
    "Mode: Most frequent value\n",
    "\n"
   ]
  },
  {
   "cell_type": "markdown",
   "id": "cb45402a-b455-4a1a-b7db-daa9a37873ce",
   "metadata": {},
   "source": [
    "**13.Significance of the measure of central tendency**"
   ]
  },
  {
   "cell_type": "markdown",
   "id": "79c37761-5c56-4709-bdb8-17bd178c4a2f",
   "metadata": {},
   "source": [
    "Helps summarize data with a single representative value."
   ]
  },
  {
   "cell_type": "markdown",
   "id": "a369e4f1-2d8d-44a2-9273-6da0e5bc1f94",
   "metadata": {},
   "source": [
    "**14.What is variance, and how is it calculated?**"
   ]
  },
  {
   "cell_type": "markdown",
   "id": "0a47dece-8157-473e-ab19-d5e012501614",
   "metadata": {},
   "source": [
    "Measure of data spread; average of squared deviations from mean.\n",
    "\n"
   ]
  },
  {
   "cell_type": "markdown",
   "id": "13bb27ed-7ff4-4c09-bdc1-de0dd64773ca",
   "metadata": {},
   "source": [
    "**15.What is standard deviation, and why is it important?**"
   ]
  },
  {
   "cell_type": "markdown",
   "id": "05a7701c-be7d-4734-a0bc-522325ed6cb0",
   "metadata": {},
   "source": [
    " Square root of variance; shows how spread out data is from the mean."
   ]
  },
  {
   "cell_type": "markdown",
   "id": "9b6aad04-fab7-4753-973c-8b043498b02d",
   "metadata": {},
   "source": [
    "**16.Define and explain the term range in statistics**"
   ]
  },
  {
   "cell_type": "markdown",
   "id": "06c5f6ce-7da4-4a2e-ad81-0f8a6a3a3bd4",
   "metadata": {},
   "source": [
    "Difference between max and min values; shows total spread."
   ]
  },
  {
   "cell_type": "markdown",
   "id": "0bcab2d0-b334-4c72-acf2-56c004d357e2",
   "metadata": {},
   "source": [
    "**17.Difference between variance and standard deviation?**"
   ]
  },
  {
   "cell_type": "markdown",
   "id": "d78190ea-196b-4975-9c00-ceceb8d06217",
   "metadata": {},
   "source": [
    "Variance is in squared units; standard deviation is in original units."
   ]
  },
  {
   "cell_type": "markdown",
   "id": "b749a431-9d49-400b-bd5a-ccb4d7502eb7",
   "metadata": {},
   "source": [
    "**18.What is skewness in a dataset?**"
   ]
  },
  {
   "cell_type": "markdown",
   "id": "266de8ea-9e88-497d-a800-b78b8f75d66a",
   "metadata": {},
   "source": [
    "Measure of asymmetry in data distribution."
   ]
  },
  {
   "cell_type": "markdown",
   "id": "ac23c61e-16ef-485b-a3de-23c615ecc446",
   "metadata": {},
   "source": [
    "**19.What does it mean if a dataset is positively or negatively skewed?**"
   ]
  },
  {
   "cell_type": "markdown",
   "id": "ccc61093-467f-4f19-986f-8b15ff49b2c7",
   "metadata": {},
   "source": [
    "Positive: Tail on right; Negative: Tail on left"
   ]
  },
  {
   "cell_type": "markdown",
   "id": "4d430f91-8515-41ce-8377-d7c81a19251b",
   "metadata": {},
   "source": [
    "**20.Define and explain kurtosis**"
   ]
  },
  {
   "cell_type": "markdown",
   "id": "f4186493-0a91-48b5-a9c5-a000aa28948d",
   "metadata": {},
   "source": [
    "Measures peakedness of data; high kurtosis = sharp peak, low = flat."
   ]
  },
  {
   "cell_type": "markdown",
   "id": "1d3b81d4-44cc-4290-8892-04a6c801397b",
   "metadata": {},
   "source": [
    "**21.What is the purpose of covariance?**"
   ]
  },
  {
   "cell_type": "markdown",
   "id": "da440a1e-8fab-42b1-a257-8a8e74f06ba9",
   "metadata": {},
   "source": [
    "Shows direction of relationship between two variables."
   ]
  },
  {
   "cell_type": "markdown",
   "id": "0b94495a-9a60-44ef-97d5-f4351a15f632",
   "metadata": {},
   "source": [
    "**22.What does correlation measure in statistics?**"
   ]
  },
  {
   "cell_type": "markdown",
   "id": "d52725e9-6eeb-4446-aa50-b1f6fe16ab0a",
   "metadata": {},
   "source": [
    "Strength and direction of relationship between two variables."
   ]
  },
  {
   "cell_type": "markdown",
   "id": "0a6f5508-4ebf-486c-b861-f926f7e4b149",
   "metadata": {},
   "source": [
    "**23.Difference between covariance and correlation?**"
   ]
  },
  {
   "cell_type": "markdown",
   "id": "6c0778d8-6ded-4d9d-b376-1ab9ef4ffec3",
   "metadata": {},
   "source": [
    "Covariance: Direction only, unit-based\n",
    " Correlation: Strength + direction, unitless (−1 to +1)"
   ]
  },
  {
   "cell_type": "markdown",
   "id": "90a44eca-72bb-4686-870c-a552a9e125e1",
   "metadata": {},
   "source": [
    "**25.Real-world applications of statistics?**"
   ]
  },
  {
   "cell_type": "markdown",
   "id": "5a83895a-d706-47ff-9554-03470fdff8dd",
   "metadata": {},
   "source": [
    "Medicine (drug trials), Business (sales trends), Sports (performance), Govt (surveys), Education (results analysis)"
   ]
  },
  {
   "cell_type": "markdown",
   "id": "dc7649ac-b4df-4adf-8aab-72b9b26df948",
   "metadata": {},
   "source": [
    "**practical**"
   ]
  },
  {
   "cell_type": "markdown",
   "id": "d6575b0a-8ff2-42d5-9248-bd5d41d5597f",
   "metadata": {},
   "source": [
    "**1. How do you calculate the mean, median, and mode of a dataset.**"
   ]
  },
  {
   "cell_type": "code",
   "execution_count": 31,
   "id": "04951a2e-c7ab-4137-b0dd-5a6a181f0aac",
   "metadata": {},
   "outputs": [],
   "source": [
    "# 1. Mean, Median, and Mode\n",
    "import numpy as np\n",
    "from scipy import stats"
   ]
  },
  {
   "cell_type": "markdown",
   "id": "7de33886-40fc-4040-a2aa-67f22256dfca",
   "metadata": {},
   "source": [
    "**2. Write a Python program to compute the variance and standard deviation of a dataset.**"
   ]
  },
  {
   "cell_type": "code",
   "execution_count": 33,
   "id": "a339eb99-d91a-4f3c-b38a-8ab8a527ff69",
   "metadata": {},
   "outputs": [
    {
     "name": "stdout",
     "output_type": "stream",
     "text": [
      "1. Mean: 177.01875\n",
      "1. Median: 177.0\n",
      "1. Mode: 177.0\n"
     ]
    }
   ],
   "source": [
    "\n",
    "# Define dataset\n",
    "data = [178, 177, 176, 177, 178.2, 178, 175, 179, 180, 175, 178.9, 176.2, 177, 172.5, 178, 176.5]\n",
    "print(\"1. Mean:\", np.mean(data))\n",
    "print(\"1. Median:\", np.median(data))\n",
    "print(\"1. Mode:\", stats.mode(data, keepdims=False).mode)"
   ]
  },
  {
   "cell_type": "markdown",
   "id": "ad47754a-d99e-4eaf-a5b2-25db8b3de477",
   "metadata": {},
   "source": [
    "**3.Create a dataset and classify it into nominal, ordinal, interval, and ratio types.**"
   ]
  },
  {
   "cell_type": "code",
   "execution_count": null,
   "id": "a90cc64f-c5b7-4de8-9755-323b88fa35a1",
   "metadata": {},
   "outputs": [],
   "source": [
    "print(\"2. Variance:\", np.var(data))\n",
    "print(\"2. Standard Deviation:\", np.std(data))"
   ]
  },
  {
   "cell_type": "markdown",
   "id": "12b486ed-e59a-4e32-bf7b-d45dc1a176c4",
   "metadata": {},
   "source": [
    "**3. Implement sampling techniques like random sampling and stratified sampling**"
   ]
  },
  {
   "cell_type": "code",
   "execution_count": null,
   "id": "7f2c88e2-2cbe-4765-a8f9-e186b6c6e448",
   "metadata": {},
   "outputs": [],
   "source": [
    "print(\"3. Nominal:\", ['Red', 'Blue', 'Green'])\n",
    "print(\"3. Ordinal:\", ['Low', 'Medium', 'High'])\n",
    "print(\"3. Interval:\", [10, 20, 30])  # No true zero\n",
    "print(\"3. Ratio:\", [1, 2, 3, 4])     # True zero"
   ]
  },
  {
   "cell_type": "markdown",
   "id": "2bd3cc72-a15b-48ef-8298-fba84d9bf634",
   "metadata": {},
   "source": [
    "**4.Implement sampling techniques like random sampling and stratified sampling.**"
   ]
  },
  {
   "cell_type": "code",
   "execution_count": null,
   "id": "7a07089e-0278-4d04-891b-9dd8056ac51d",
   "metadata": {},
   "outputs": [],
   "source": [
    "import pandas as pd\n",
    "from sklearn.model_selection import train_test_split\n",
    "\n",
    "sample_df = pd.DataFrame({\n",
    "    'Age': [18, 19, 20, 21, 22, 23, 24, 25],\n",
    "    'Group': ['A', 'A', 'B', 'B', 'C', 'C', 'D', 'D']\n",
    "})\n",
    "random_sample = sample_df.sample(n=4)\n",
    "stratified_sample = sample_df.groupby('Group', group_keys=False).apply(lambda x: x.sample(1))\n",
    "print(\"4. Random Sample:\\n\", random_sample)\n",
    "print(\"4. Stratified Sample:\\n\", stratified_sample)"
   ]
  },
  {
   "cell_type": "markdown",
   "id": "603fee82-b855-4b82-91e8-2998b91340e4",
   "metadata": {},
   "source": [
    "**5.Write a Python function to calculate the range of a dataset**"
   ]
  },
  {
   "cell_type": "code",
   "execution_count": null,
   "id": "c90e1b79-1494-45d2-a171-0098d44fa9e0",
   "metadata": {},
   "outputs": [],
   "source": [
    "# 5. Range Function\n",
    "def calculate_range(dataset):\n",
    "    return max(dataset) - min(dataset)\n",
    "\n",
    "print(\"5. Range:\", calculate_range(dataset))\n"
   ]
  },
  {
   "cell_type": "markdown",
   "id": "f5d6773a-15c6-4b16-aaae-cbe78f942804",
   "metadata": {},
   "source": [
    "**6. Create a dataset and plot its histogram to visualize skewness**"
   ]
  },
  {
   "cell_type": "code",
   "execution_count": null,
   "id": "26e46b95-be03-450e-8d97-e6ac084925d1",
   "metadata": {},
   "outputs": [],
   "source": [
    "pip install matplotlib"
   ]
  },
  {
   "cell_type": "code",
   "execution_count": null,
   "id": "53d11464-18ef-46e9-985a-e1220c29711c",
   "metadata": {},
   "outputs": [],
   "source": [
    "# 6. Histogram to Visualize Skewness\n",
    "import matplotlib.pyplot as plt\n",
    "plt.hist(data, bins=10, edgecolor='black')\n",
    "plt.title(\"6. Histogram\")\n",
    "plt.xlabel(\"Values\")\n",
    "plt.ylabel(\"Frequency\")\n",
    "plt.show()"
   ]
  },
  {
   "cell_type": "markdown",
   "id": "fc570656-ce09-4b7f-b765-329d3b9bf809",
   "metadata": {},
   "source": [
    "**7.5 Calculate skewness and kurtosis of a dataset using Python libraries**"
   ]
  },
  {
   "cell_type": "code",
   "execution_count": null,
   "id": "31f042d3-2c1d-4f71-86c6-94e3e75f5249",
   "metadata": {},
   "outputs": [],
   "source": [
    "# 7. Skewness and Kurtosis\n",
    "from scipy.stats import skew, kurtosis\n",
    "print(\"7. Skewness:\", skew(data))\n",
    "print(\"7. Kurtosis:\", kurtosis(data))\n"
   ]
  },
  {
   "cell_type": "markdown",
   "id": "0ea84c90-608a-4cf7-bca5-683e630a9619",
   "metadata": {},
   "source": [
    "**8.Generate a dataset and demonstrate positive and negative skewness.**"
   ]
  },
  {
   "cell_type": "code",
   "execution_count": null,
   "id": "93c0d84e-1869-400c-a781-7ccaa2977b97",
   "metadata": {},
   "outputs": [],
   "source": [
    "# 8. Positive and Negative Skewness\n",
    "data_pos = [1, 2, 3, 4, 5, 100]\n",
    "data_neg = [100, 95, 94, 92, 90, 1]\n",
    "print(\"8. Positive Skewness:\", skew(data_pos))\n",
    "print(\"8. Negative Skewness:\", skew(data_neg))"
   ]
  },
  {
   "cell_type": "markdown",
   "id": "751de3db-ac60-4310-a17e-ff4f123bfa6a",
   "metadata": {},
   "source": [
    "**9.Write a Python script to calculate covariance between two datasets**"
   ]
  },
  {
   "cell_type": "code",
   "execution_count": null,
   "id": "6b080288-0d9f-4a8f-aed3-eaf8b4917ab9",
   "metadata": {},
   "outputs": [],
   "source": [
    "# 9. Covariance\n",
    "x = [10, 20, 30, 40, 50]\n",
    "y = [15, 25, 35, 45, 60]\n",
    "print(\"9. Covariance:\", np.cov(x, y)[0, 1])\n"
   ]
  },
  {
   "cell_type": "markdown",
   "id": "0a79a511-a085-46fc-8783-68eee9712b0a",
   "metadata": {},
   "source": [
    "**10.Write a Python script to calculate the correlation coefficient between two datasets5**"
   ]
  },
  {
   "cell_type": "code",
   "execution_count": null,
   "id": "d5b79aa9-cf96-452a-99f1-1fddb605ae46",
   "metadata": {},
   "outputs": [],
   "source": [
    "# 10. Correlation\n",
    "print(\"10. Correlation Coefficient:\", np.corrcoef(x, y)[0, 1])\n"
   ]
  },
  {
   "cell_type": "markdown",
   "id": "38580968-3113-4762-bc82-e6d2cceb01dd",
   "metadata": {},
   "source": [
    "**11.Create a scatter plot to visualize the relationship between two variables**"
   ]
  },
  {
   "cell_type": "code",
   "execution_count": null,
   "id": "f74ba7e2-4f94-4db0-88de-5600ece1d47c",
   "metadata": {},
   "outputs": [],
   "source": [
    "pip install scatter\n"
   ]
  },
  {
   "cell_type": "code",
   "execution_count": null,
   "id": "74461609-c988-489f-b413-a31e83546e19",
   "metadata": {},
   "outputs": [],
   "source": [
    "# 11. Scatter Plot\n",
    "plt.scatter(x, y)\n",
    "plt.title(\"11. Scatter Plot\")\n",
    "plt.xlabel(\"X\")\n",
    "plt.ylabel(\"Y\")\n",
    "plt.show()\n"
   ]
  },
  {
   "cell_type": "markdown",
   "id": "d8a145f6-4d0e-4752-8593-33c7d2dad479",
   "metadata": {},
   "source": [
    "**12.5 Implement and compare simple random sampling and systematic sampling**"
   ]
  },
  {
   "cell_type": "code",
   "execution_count": null,
   "id": "66cd4e68-2981-4d86-a9cc-0186a97a1d5b",
   "metadata": {},
   "outputs": [],
   "source": [
    "# 12. Simple vs Systematic Sampling\n",
    "data_full = np.arange(1, 101)\n",
    "simple_random = np.random.choice(data_full, size=10, replace=False)\n",
    "systematic = data_full[::10]\n",
    "print(\"12. Simple Random:\", simple_random)\n",
    "print(\"12. Systematic:\", systematic)\n"
   ]
  },
  {
   "cell_type": "markdown",
   "id": "74255a02-d79f-4084-b590-ab4c0efd40b5",
   "metadata": {},
   "source": [
    "**13.Calculate the mean, median, and mode of grouped data**"
   ]
  },
  {
   "cell_type": "code",
   "execution_count": null,
   "id": "7cfc83e4-44bc-443a-84d4-c598ab075439",
   "metadata": {},
   "outputs": [],
   "source": [
    "# 13. Grouped Data Central Tendency\n",
    "grouped_data = {\n",
    "    'class': ['0-10', '10-20', '20-30', '30-40'],\n",
    "    'frequency': [5, 10, 15, 20]\n",
    "}\n",
    "grouped_df = pd.DataFrame(grouped_data)\n",
    "group_midpoints = [5, 15, 25, 35]\n",
    "frequencies = grouped_df['frequency']\n",
    "mean_grouped = np.average(group_midpoints, weights=frequencies)\n",
    "print(\"13. Mean of Grouped Data:\", mean_grouped)\n"
   ]
  },
  {
   "cell_type": "markdown",
   "id": "7d6eb8f7-e80a-4790-828a-cb346951bd28",
   "metadata": {},
   "source": [
    "**14.Simulate data using Python and calculate its central tendency and dispersion.**"
   ]
  },
  {
   "cell_type": "code",
   "execution_count": null,
   "id": "d5e48467-a1c5-430f-a924-98feccd14fb7",
   "metadata": {},
   "outputs": [],
   "source": [
    "# 14. Simulate and Calculate\n",
    "simulated_data = np.random.normal(loc=50, scale=10, size=100)\n",
    "print(\"14. Simulated Mean:\", np.mean(simulated_data))\n",
    "print(\"14. Simulated Median:\", np.median(simulated_data))\n",
    "print(\"14. Simulated Std Dev:\", np.std(simulated_data))\n"
   ]
  },
  {
   "cell_type": "markdown",
   "id": "91c1351c-8920-4957-ba6f-b2127bb54281",
   "metadata": {},
   "source": [
    "**15. Use NumPy or pandas to summarize a dataset’s descriptive statistics>**"
   ]
  },
  {
   "cell_type": "code",
   "execution_count": 34,
   "id": "0386bb5e-aaa8-4f14-ae23-d183606bb1f3",
   "metadata": {},
   "outputs": [
    {
     "name": "stdout",
     "output_type": "stream",
     "text": [
      "15. Descriptive Stats:\n",
      "              data\n",
      "count   16.000000\n",
      "mean   177.018750\n",
      "std      1.847239\n",
      "min    172.500000\n",
      "25%    176.150000\n",
      "50%    177.000000\n",
      "75%    178.050000\n",
      "max    180.000000\n"
     ]
    }
   ],
   "source": [
    "# 15. Descriptive Stats with pandas\n",
    "df = pd.DataFrame({'data': data})\n",
    "print(\"15. Descriptive Stats:\\n\", df.describe())\n"
   ]
  },
  {
   "cell_type": "markdown",
   "id": "8b359265-fc92-40bd-8883-cce7e42a7e1d",
   "metadata": {},
   "source": [
    "**16.Plot a boxplot to understand the spread and identify outliers**"
   ]
  },
  {
   "cell_type": "markdown",
   "id": "eef0ba80-bf2d-43dc-8123-7b07d93959c9",
   "metadata": {},
   "source": [
    "pip  install seaborn"
   ]
  },
  {
   "cell_type": "code",
   "execution_count": 38,
   "id": "c66645f5-fa4e-4870-9500-fa343f0c9fb9",
   "metadata": {},
   "outputs": [
    {
     "ename": "ModuleNotFoundError",
     "evalue": "No module named 'seaborn'",
     "output_type": "error",
     "traceback": [
      "\u001b[1;31m---------------------------------------------------------------------------\u001b[0m",
      "\u001b[1;31mModuleNotFoundError\u001b[0m                       Traceback (most recent call last)",
      "Cell \u001b[1;32mIn[38], line 2\u001b[0m\n\u001b[0;32m      1\u001b[0m \u001b[38;5;66;03m# 16. Boxplot and Outliers\u001b[39;00m\n\u001b[1;32m----> 2\u001b[0m \u001b[38;5;28;01mimport\u001b[39;00m\u001b[38;5;250m \u001b[39m\u001b[38;5;21;01mseaborn\u001b[39;00m\u001b[38;5;250m \u001b[39m\u001b[38;5;28;01mas\u001b[39;00m\u001b[38;5;250m \u001b[39m\u001b[38;5;21;01msns\u001b[39;00m\n\u001b[0;32m      3\u001b[0m sns\u001b[38;5;241m.\u001b[39mboxplot(x\u001b[38;5;241m=\u001b[39mdata)\n\u001b[0;32m      4\u001b[0m plt\u001b[38;5;241m.\u001b[39mtitle(\u001b[38;5;124m\"\u001b[39m\u001b[38;5;124m16. Boxplot\u001b[39m\u001b[38;5;124m\"\u001b[39m)\n",
      "\u001b[1;31mModuleNotFoundError\u001b[0m: No module named 'seaborn'"
     ]
    }
   ],
   "source": [
    "# 16. Boxplot and Outliers\n",
    "import seaborn as sns\n",
    "sns.boxplot(x=data)\n",
    "plt.title(\"16. Boxplot\")\n",
    "plt.show()"
   ]
  },
  {
   "cell_type": "markdown",
   "id": "928bf533-7546-4e44-85bc-c7251efb3339",
   "metadata": {},
   "source": [
    "**17.A> Calculate the interquartile range (IQR) of a dataset>**"
   ]
  },
  {
   "cell_type": "code",
   "execution_count": 40,
   "id": "443370eb-fe03-4bd7-81dd-0a1d846a1bcc",
   "metadata": {},
   "outputs": [
    {
     "name": "stdout",
     "output_type": "stream",
     "text": [
      "17. Interquartile Range: 1.900000000000034\n"
     ]
    }
   ],
   "source": [
    "# 17. Interquartile Range\n",
    "Q1 = np.percentile(data, 25)\n",
    "Q3 = np.percentile(data, 75)\n",
    "IQR = Q3 - Q1\n",
    "print(\"17. Interquartile Range:\", IQR)"
   ]
  },
  {
   "cell_type": "markdown",
   "id": "4150a855-3f06-40e4-8072-0a56fd1c041f",
   "metadata": {},
   "source": [
    "**18.> Implement Z-score normalization and explain its significance>**"
   ]
  },
  {
   "cell_type": "code",
   "execution_count": 42,
   "id": "8d8c3267-057c-444e-8791-f4d2eafb01a8",
   "metadata": {},
   "outputs": [
    {
     "name": "stdout",
     "output_type": "stream",
     "text": [
      "18. Z-score Normalized Data:\n",
      " [ 0.54861914 -0.01048317 -0.56958548 -0.01048317  0.66043961  0.54861914\n",
      " -1.12868779  1.10772146  1.66682377 -1.12868779  1.05181123 -0.45776502\n",
      " -0.01048317 -2.52644358  0.54861914 -0.29003432]\n"
     ]
    }
   ],
   "source": [
    "from scipy.stats import skew, kurtosis, zscore, pearsonr, spearmanr\n",
    "z_scores = zscore(data)\n",
    "print(\"18. Z-score Normalized Data:\\n\", z_scores)"
   ]
  },
  {
   "cell_type": "markdown",
   "id": "fd6c8b85-28ad-41e4-8af7-eaee27c61880",
   "metadata": {},
   "source": [
    "**19. Compare two datasets using their standard deviations**"
   ]
  },
  {
   "cell_type": "code",
   "execution_count": 43,
   "id": "20cb6bec-bfc3-4ae5-bf0b-a1ec4a3c29d6",
   "metadata": {},
   "outputs": [
    {
     "name": "stdout",
     "output_type": "stream",
     "text": [
      "19. Std Dev X: 14.142135623730951\n",
      "19. Std Dev Y: 15.620499351813308\n"
     ]
    }
   ],
   "source": [
    "# 19. Compare Std Devs\n",
    "x_std = np.std(x)\n",
    "y_std = np.std(y)\n",
    "print(\"19. Std Dev X:\", x_std)\n",
    "print(\"19. Std Dev Y:\", y_std)\n"
   ]
  },
  {
   "cell_type": "markdown",
   "id": "5091f714-1b59-44bd-96f5-6fc82572d3e0",
   "metadata": {},
   "source": [
    "**20.Write a Python program to visualize covariance using a heatmap**"
   ]
  },
  {
   "cell_type": "code",
   "execution_count": 44,
   "id": "ca480576-58f2-43fa-be20-cbde254a7fc1",
   "metadata": {},
   "outputs": [
    {
     "ename": "NameError",
     "evalue": "name 'sns' is not defined",
     "output_type": "error",
     "traceback": [
      "\u001b[1;31m---------------------------------------------------------------------------\u001b[0m",
      "\u001b[1;31mNameError\u001b[0m                                 Traceback (most recent call last)",
      "Cell \u001b[1;32mIn[44], line 3\u001b[0m\n\u001b[0;32m      1\u001b[0m \u001b[38;5;66;03m# 20. Covariance Heatmap\u001b[39;00m\n\u001b[0;32m      2\u001b[0m cov_df \u001b[38;5;241m=\u001b[39m pd\u001b[38;5;241m.\u001b[39mDataFrame({\u001b[38;5;124m'\u001b[39m\u001b[38;5;124mx\u001b[39m\u001b[38;5;124m'\u001b[39m: x, \u001b[38;5;124m'\u001b[39m\u001b[38;5;124my\u001b[39m\u001b[38;5;124m'\u001b[39m: y})\n\u001b[1;32m----> 3\u001b[0m \u001b[43msns\u001b[49m\u001b[38;5;241m.\u001b[39mheatmap(cov_df\u001b[38;5;241m.\u001b[39mcov(), annot\u001b[38;5;241m=\u001b[39m\u001b[38;5;28;01mTrue\u001b[39;00m, cmap\u001b[38;5;241m=\u001b[39m\u001b[38;5;124m'\u001b[39m\u001b[38;5;124mcoolwarm\u001b[39m\u001b[38;5;124m'\u001b[39m)\n\u001b[0;32m      4\u001b[0m plt\u001b[38;5;241m.\u001b[39mtitle(\u001b[38;5;124m\"\u001b[39m\u001b[38;5;124m20. Covariance Heatmap\u001b[39m\u001b[38;5;124m\"\u001b[39m)\n\u001b[0;32m      5\u001b[0m plt\u001b[38;5;241m.\u001b[39mshow()\n",
      "\u001b[1;31mNameError\u001b[0m: name 'sns' is not defined"
     ]
    }
   ],
   "source": [
    "# 20. Covariance Heatmap\n",
    "cov_df = pd.DataFrame({'x': x, 'y': y})\n",
    "sns.heatmap(cov_df.cov(), annot=True, cmap='coolwarm')\n",
    "plt.title(\"20. Covariance Heatmap\")\n",
    "plt.show()\n"
   ]
  },
  {
   "cell_type": "markdown",
   "id": "8d275f2d-2909-43b9-8a33-3619c44a1e95",
   "metadata": {},
   "source": [
    "**21.> Use seaborn to create a correlation matrix for a dataset**"
   ]
  },
  {
   "cell_type": "code",
   "execution_count": 45,
   "id": "9c7c4dca-367e-47c7-82ad-4adf35814ca5",
   "metadata": {},
   "outputs": [
    {
     "ename": "NameError",
     "evalue": "name 'sns' is not defined",
     "output_type": "error",
     "traceback": [
      "\u001b[1;31m---------------------------------------------------------------------------\u001b[0m",
      "\u001b[1;31mNameError\u001b[0m                                 Traceback (most recent call last)",
      "Cell \u001b[1;32mIn[45], line 2\u001b[0m\n\u001b[0;32m      1\u001b[0m \u001b[38;5;66;03m# 21. Correlation Matrix\u001b[39;00m\n\u001b[1;32m----> 2\u001b[0m \u001b[43msns\u001b[49m\u001b[38;5;241m.\u001b[39mheatmap(cov_df\u001b[38;5;241m.\u001b[39mcorr(), annot\u001b[38;5;241m=\u001b[39m\u001b[38;5;28;01mTrue\u001b[39;00m, cmap\u001b[38;5;241m=\u001b[39m\u001b[38;5;124m'\u001b[39m\u001b[38;5;124mYlGnBu\u001b[39m\u001b[38;5;124m'\u001b[39m)\n\u001b[0;32m      3\u001b[0m plt\u001b[38;5;241m.\u001b[39mtitle(\u001b[38;5;124m\"\u001b[39m\u001b[38;5;124m21. Correlation Matrix\u001b[39m\u001b[38;5;124m\"\u001b[39m)\n\u001b[0;32m      4\u001b[0m plt\u001b[38;5;241m.\u001b[39mshow()\n",
      "\u001b[1;31mNameError\u001b[0m: name 'sns' is not defined"
     ]
    }
   ],
   "source": [
    "# 21. Correlation Matrix\n",
    "sns.heatmap(cov_df.corr(), annot=True, cmap='YlGnBu')\n",
    "plt.title(\"21. Correlation Matrix\")\n",
    "plt.show()"
   ]
  },
  {
   "cell_type": "markdown",
   "id": "b97fe579-796b-43d3-9844-f7cae09f5e2f",
   "metadata": {},
   "source": [
    "**22.> Generate a dataset and implement both variance and standard deviation computations>**"
   ]
  },
  {
   "cell_type": "code",
   "execution_count": 46,
   "id": "06e91b71-9ce0-4092-b415-102a6ba01049",
   "metadata": {},
   "outputs": [
    {
     "name": "stdout",
     "output_type": "stream",
     "text": [
      "22. Variance: 72.91666666666667\n",
      "22. Std Dev: 8.539125638299666\n"
     ]
    }
   ],
   "source": [
    "# 22. Variance and Std Dev Comparison\n",
    "comp_data = [5, 10, 15, 20, 25, 30]\n",
    "print(\"22. Variance:\", np.var(comp_data))\n",
    "print(\"22. Std Dev:\", np.std(comp_data))"
   ]
  },
  {
   "cell_type": "markdown",
   "id": "ab0d3f03-5248-45f1-90c8-72de7c4a777e",
   "metadata": {},
   "source": [
    "**23.Visualize skewness and kurtosis using Python libraries like matplotlib or seaborn**"
   ]
  },
  {
   "cell_type": "code",
   "execution_count": 47,
   "id": "1da58c36-d888-4f46-8fda-bbc28594a476",
   "metadata": {},
   "outputs": [
    {
     "ename": "NameError",
     "evalue": "name 'sns' is not defined",
     "output_type": "error",
     "traceback": [
      "\u001b[1;31m---------------------------------------------------------------------------\u001b[0m",
      "\u001b[1;31mNameError\u001b[0m                                 Traceback (most recent call last)",
      "Cell \u001b[1;32mIn[47], line 2\u001b[0m\n\u001b[0;32m      1\u001b[0m \u001b[38;5;66;03m# 23. Skewness and Kurtosis Plot\u001b[39;00m\n\u001b[1;32m----> 2\u001b[0m \u001b[43msns\u001b[49m\u001b[38;5;241m.\u001b[39mhistplot(data, kde\u001b[38;5;241m=\u001b[39m\u001b[38;5;28;01mTrue\u001b[39;00m)\n\u001b[0;32m      3\u001b[0m plt\u001b[38;5;241m.\u001b[39mtitle(\u001b[38;5;124m\"\u001b[39m\u001b[38;5;124m23. Skewness & Kurtosis Visualization\u001b[39m\u001b[38;5;124m\"\u001b[39m)\n\u001b[0;32m      4\u001b[0m plt\u001b[38;5;241m.\u001b[39mshow()\n",
      "\u001b[1;31mNameError\u001b[0m: name 'sns' is not defined"
     ]
    }
   ],
   "source": [
    "# 23. Skewness and Kurtosis Plot\n",
    "sns.histplot(data, kde=True)\n",
    "plt.title(\"23. Skewness & Kurtosis Visualization\")\n",
    "plt.show()\n"
   ]
  },
  {
   "cell_type": "markdown",
   "id": "2c9c1053-31d9-4634-acca-6c6363c73931",
   "metadata": {},
   "source": [
    "**24.> Implement the Pearson and Spearman correlation coefficients for a dataset.**"
   ]
  },
  {
   "cell_type": "code",
   "execution_count": 48,
   "id": "fa3592aa-2b1d-4d91-8fa5-88d77f12402c",
   "metadata": {},
   "outputs": [
    {
     "ename": "ValueError",
     "evalue": "`x` and `y` must have the same length along `axis`.",
     "output_type": "error",
     "traceback": [
      "\u001b[1;31m---------------------------------------------------------------------------\u001b[0m",
      "\u001b[1;31mValueError\u001b[0m                                Traceback (most recent call last)",
      "\u001b[1;32m~\\AppData\\Local\\Temp\\ipykernel_8604\\1511729046.py\u001b[0m in \u001b[0;36m?\u001b[1;34m()\u001b[0m\n\u001b[0;32m      1\u001b[0m \u001b[1;31m# 24. Pearson and Spearman\u001b[0m\u001b[1;33m\u001b[0m\u001b[1;33m\u001b[0m\u001b[0m\n\u001b[1;32m----> 2\u001b[1;33m \u001b[0mprint\u001b[0m\u001b[1;33m(\u001b[0m\u001b[1;34m\"24. Pearson Coefficient:\"\u001b[0m\u001b[1;33m,\u001b[0m \u001b[0mpearsonr\u001b[0m\u001b[1;33m(\u001b[0m\u001b[0mdata\u001b[0m\u001b[1;33m,\u001b[0m \u001b[0msimulated_data\u001b[0m\u001b[1;33m)\u001b[0m\u001b[1;33m[\u001b[0m\u001b[1;36m0\u001b[0m\u001b[1;33m]\u001b[0m\u001b[1;33m)\u001b[0m\u001b[1;33m\u001b[0m\u001b[1;33m\u001b[0m\u001b[0m\n\u001b[0m\u001b[0;32m      3\u001b[0m \u001b[0mprint\u001b[0m\u001b[1;33m(\u001b[0m\u001b[1;34m\"24. Spearman Coefficient:\"\u001b[0m\u001b[1;33m,\u001b[0m \u001b[0mspearmanr\u001b[0m\u001b[1;33m(\u001b[0m\u001b[0mdata\u001b[0m\u001b[1;33m,\u001b[0m \u001b[0msimulated_data\u001b[0m\u001b[1;33m)\u001b[0m\u001b[1;33m[\u001b[0m\u001b[1;36m0\u001b[0m\u001b[1;33m]\u001b[0m\u001b[1;33m)\u001b[0m\u001b[1;33m\u001b[0m\u001b[1;33m\u001b[0m\u001b[0m\n",
      "\u001b[1;32m~\\AppData\\Local\\Programs\\Python\\Python313\\Lib\\site-packages\\scipy\\stats\\_stats_py.py\u001b[0m in \u001b[0;36m?\u001b[1;34m(x, y, alternative, method, axis)\u001b[0m\n\u001b[0;32m   4545\u001b[0m     \u001b[0maxis\u001b[0m \u001b[1;33m=\u001b[0m \u001b[0maxis_int\u001b[0m\u001b[1;33m\u001b[0m\u001b[1;33m\u001b[0m\u001b[0m\n\u001b[0;32m   4546\u001b[0m \u001b[1;33m\u001b[0m\u001b[0m\n\u001b[0;32m   4547\u001b[0m     \u001b[0mn\u001b[0m \u001b[1;33m=\u001b[0m \u001b[0mx\u001b[0m\u001b[1;33m.\u001b[0m\u001b[0mshape\u001b[0m\u001b[1;33m[\u001b[0m\u001b[0maxis\u001b[0m\u001b[1;33m]\u001b[0m\u001b[1;33m\u001b[0m\u001b[1;33m\u001b[0m\u001b[0m\n\u001b[0;32m   4548\u001b[0m     \u001b[1;32mif\u001b[0m \u001b[0mn\u001b[0m \u001b[1;33m!=\u001b[0m \u001b[0my\u001b[0m\u001b[1;33m.\u001b[0m\u001b[0mshape\u001b[0m\u001b[1;33m[\u001b[0m\u001b[0maxis\u001b[0m\u001b[1;33m]\u001b[0m\u001b[1;33m:\u001b[0m\u001b[1;33m\u001b[0m\u001b[1;33m\u001b[0m\u001b[0m\n\u001b[1;32m-> 4549\u001b[1;33m         \u001b[1;32mraise\u001b[0m \u001b[0mValueError\u001b[0m\u001b[1;33m(\u001b[0m\u001b[1;34m'`x` and `y` must have the same length along `axis`.'\u001b[0m\u001b[1;33m)\u001b[0m\u001b[1;33m\u001b[0m\u001b[1;33m\u001b[0m\u001b[0m\n\u001b[0m\u001b[0;32m   4550\u001b[0m \u001b[1;33m\u001b[0m\u001b[0m\n\u001b[0;32m   4551\u001b[0m     \u001b[1;32mif\u001b[0m \u001b[0mn\u001b[0m \u001b[1;33m<\u001b[0m \u001b[1;36m2\u001b[0m\u001b[1;33m:\u001b[0m\u001b[1;33m\u001b[0m\u001b[1;33m\u001b[0m\u001b[0m\n\u001b[0;32m   4552\u001b[0m         \u001b[1;32mraise\u001b[0m \u001b[0mValueError\u001b[0m\u001b[1;33m(\u001b[0m\u001b[1;34m'`x` and `y` must have length at least 2.'\u001b[0m\u001b[1;33m)\u001b[0m\u001b[1;33m\u001b[0m\u001b[1;33m\u001b[0m\u001b[0m\n",
      "\u001b[1;31mValueError\u001b[0m: `x` and `y` must have the same length along `axis`."
     ]
    }
   ],
   "source": [
    "# 24. Pearson and Spearman\n",
    "print(\"24. Pearson Coefficient:\", pearsonr(data, simulated_data)[0])\n",
    "print(\"24. Spearman Coefficient:\", spearmanr(data, simulated_data)[0])\n"
   ]
  },
  {
   "cell_type": "code",
   "execution_count": null,
   "id": "1c97d979-50f1-4cc4-a23c-bbe1ef7c06ca",
   "metadata": {},
   "outputs": [],
   "source": []
  }
 ],
 "metadata": {
  "kernelspec": {
   "display_name": "Python 3 (ipykernel)",
   "language": "python",
   "name": "python3"
  },
  "language_info": {
   "codemirror_mode": {
    "name": "ipython",
    "version": 3
   },
   "file_extension": ".py",
   "mimetype": "text/x-python",
   "name": "python",
   "nbconvert_exporter": "python",
   "pygments_lexer": "ipython3",
   "version": "3.13.1"
  }
 },
 "nbformat": 4,
 "nbformat_minor": 5
}
